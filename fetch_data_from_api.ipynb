{
 "cells": [
  {
   "cell_type": "code",
   "execution_count": 1,
   "id": "29243560-b399-40ca-b869-83897ee9e5ef",
   "metadata": {},
   "outputs": [],
   "source": [
    "from pyspark.sql import SparkSession\n",
    "import requests\n",
    "import json\n",
    "from pyspark.sql.types import StructType, StructField, StringType, IntegerType, FloatType, LongType\n",
    "from pyspark.sql.functions import col, lit, when, avg, count"
   ]
  },
  {
   "cell_type": "code",
   "execution_count": 2,
   "id": "fefacfbc-316a-42d9-a9b8-1d927846e045",
   "metadata": {},
   "outputs": [
    {
     "name": "stderr",
     "output_type": "stream",
     "text": [
      "24/12/05 18:27:05 WARN SparkSession: Using an existing Spark session; only runtime SQL configurations will take effect.\n"
     ]
    }
   ],
   "source": [
    "spark = SparkSession.builder.appName(\"Fetch API Data with PySpark DataFrame\").getOrCreate()"
   ]
  },
  {
   "cell_type": "code",
   "execution_count": 3,
   "id": "ce660df0-58fa-411e-aaef-820da31440e9",
   "metadata": {},
   "outputs": [],
   "source": [
    "api_url = 'https://dummyjson.com/users'"
   ]
  },
  {
   "cell_type": "markdown",
   "id": "53faaff9-73b4-4b99-b4e3-f3eb924b8bcf",
   "metadata": {},
   "source": [
    "### Fetch data from the given API URL and return it as a list of dictionaries."
   ]
  },
  {
   "cell_type": "code",
   "execution_count": 4,
   "id": "943440ac-d6d4-4b5f-a00c-071ae5dc0d9e",
   "metadata": {},
   "outputs": [],
   "source": [
    "def fetch_data(api_url):\n",
    "    \"\"\"\n",
    "    Fetch data from the given API URL.\n",
    "    \"\"\"\n",
    "    response = requests.get(api_url)\n",
    "    if response.status_code == 200:\n",
    "        return response.json().get(\"users\", [])\n",
    "    else:\n",
    "        raise Exception(f\"Failed to fetch data. Status code: {response.status_code}\")"
   ]
  },
  {
   "cell_type": "code",
   "execution_count": 5,
   "id": "8e6e36ec-1539-4f11-9623-657e897b0c51",
   "metadata": {},
   "outputs": [],
   "source": [
    "data = fetch_data(api_url)"
   ]
  },
  {
   "cell_type": "markdown",
   "id": "8877702c-a693-4786-bcc0-9401c48a7446",
   "metadata": {},
   "source": [
    "### Define schema explicitly"
   ]
  },
  {
   "cell_type": "code",
   "execution_count": 6,
   "id": "96b8ce4e-f312-4964-80a2-2b33eaf3feb3",
   "metadata": {},
   "outputs": [],
   "source": [
    "schema = StructType([\n",
    "    StructField(\"id\", LongType(), True),\n",
    "    StructField(\"firstName\", StringType(), True),\n",
    "    StructField(\"lastName\", StringType(), True),\n",
    "    StructField(\"age\", IntegerType(), True),\n",
    "    StructField(\"email\", StringType(), True),\n",
    "    StructField(\"gender\", StringType(), True),\n",
    "    StructField(\"phone\", StringType(), True),\n",
    "    StructField(\"height\", StringType(), True),\n",
    "    StructField(\"weight\", StringType(), True),\n",
    "    StructField(\"eyeColor\", StringType(), True),\n",
    "    StructField(\"birthDate\", StringType(), True),\n",
    "    StructField(\"bloodGroup\", StringType(), True),\n",
    "    StructField(\"image\", StringType(), True)\n",
    "])"
   ]
  },
  {
   "cell_type": "markdown",
   "id": "7161172a-a35d-45d1-b9d4-3c424b949daf",
   "metadata": {},
   "source": [
    "### Create DataFrame using the explicit schema"
   ]
  },
  {
   "cell_type": "code",
   "execution_count": 7,
   "id": "28086977-4e17-4a5f-a852-4a3b66c9f07a",
   "metadata": {},
   "outputs": [
    {
     "name": "stderr",
     "output_type": "stream",
     "text": [
      "                                                                                \r"
     ]
    },
    {
     "name": "stdout",
     "output_type": "stream",
     "text": [
      "+---+---------+---------+---+---------------------------------+------+----------------+------+------+--------+----------+----------+-----------------------------------------+\n",
      "|id |firstName|lastName |age|email                            |gender|phone           |height|weight|eyeColor|birthDate |bloodGroup|image                                    |\n",
      "+---+---------+---------+---+---------------------------------+------+----------------+------+------+--------+----------+----------+-----------------------------------------+\n",
      "|1  |Emily    |Johnson  |28 |emily.johnson@x.dummyjson.com    |female|+81 965-431-3024|193.24|63.16 |Green   |1996-5-30 |O-        |https://dummyjson.com/icon/emilys/128    |\n",
      "|2  |Michael  |Williams |35 |michael.williams@x.dummyjson.com |male  |+49 258-627-6644|186.22|76.32 |Red     |1989-8-10 |B+        |https://dummyjson.com/icon/michaelw/128  |\n",
      "|3  |Sophia   |Brown    |42 |sophia.brown@x.dummyjson.com     |female|+81 210-652-2785|177.72|52.6  |Hazel   |1982-11-6 |O-        |https://dummyjson.com/icon/sophiab/128   |\n",
      "|4  |James    |Davis    |45 |james.davis@x.dummyjson.com      |male  |+49 614-958-9364|193.31|62.1  |Amber   |1979-5-4  |AB+       |https://dummyjson.com/icon/jamesd/128    |\n",
      "|5  |Emma     |Miller   |30 |emma.miller@x.dummyjson.com      |female|+91 759-776-1614|192.8 |63.62 |Green   |1994-6-13 |AB-       |https://dummyjson.com/icon/emmaj/128     |\n",
      "|6  |Olivia   |Wilson   |22 |olivia.wilson@x.dummyjson.com    |female|+91 607-295-6448|182.61|58    |Hazel   |2002-4-20 |B+        |https://dummyjson.com/icon/oliviaw/128   |\n",
      "|7  |Alexander|Jones    |38 |alexander.jones@x.dummyjson.com  |male  |+61 260-824-4986|153.89|77.42 |Blue    |1986-10-20|AB-       |https://dummyjson.com/icon/alexanderj/128|\n",
      "|8  |Ava      |Taylor   |27 |ava.taylor@x.dummyjson.com       |female|+1 458-853-7877 |168.47|57.08 |Hazel   |1997-8-25 |AB-       |https://dummyjson.com/icon/avat/128      |\n",
      "|9  |Ethan    |Martinez |33 |ethan.martinez@x.dummyjson.com   |male  |+92 933-608-5081|159.19|68.81 |Hazel   |1991-2-12 |AB+       |https://dummyjson.com/icon/ethanm/128    |\n",
      "|10 |Isabella |Anderson |31 |isabella.anderson@x.dummyjson.com|female|+49 770-658-4885|150.56|50.1  |Brown   |1993-6-10 |A-        |https://dummyjson.com/icon/isabellad/128 |\n",
      "|11 |Liam     |Garcia   |29 |liam.garcia@x.dummyjson.com      |male  |+92 870-217-6201|162.32|93.16 |Violet  |1995-6-6  |AB-       |https://dummyjson.com/icon/liamg/128     |\n",
      "|12 |Mia      |Rodriguez|24 |mia.rodriguez@x.dummyjson.com    |female|+49 989-461-8403|188.08|56.03 |Blue    |2000-8-4  |O-        |https://dummyjson.com/icon/miar/128      |\n",
      "|13 |Noah     |Hernandez|40 |noah.hernandez@x.dummyjson.com   |male  |+49 393-605-6968|188.62|69.49 |Brown   |1984-6-5  |AB+       |https://dummyjson.com/icon/noahh/128     |\n",
      "|14 |Charlotte|Lopez    |36 |charlotte.lopez@x.dummyjson.com  |female|+44 373-953-5028|178.92|82.46 |Brown   |1988-6-8  |AB-       |https://dummyjson.com/icon/charlottem/128|\n",
      "|15 |William  |Gonzalez |32 |william.gonzalez@x.dummyjson.com |male  |+81 905-252-7319|173.21|82.41 |Hazel   |1992-3-27 |B-        |https://dummyjson.com/icon/williamg/128  |\n",
      "|16 |Avery    |Perez    |25 |avery.perez@x.dummyjson.com      |female|+61 731-431-3457|172.68|93.9  |Brown   |1999-3-10 |O-        |https://dummyjson.com/icon/averyp/128    |\n",
      "|17 |Evelyn   |Sanchez  |37 |evelyn.sanchez@x.dummyjson.com   |female|+1 623-880-6871 |184.08|83.15 |Violet  |1987-10-13|B+        |https://dummyjson.com/icon/evelyns/128   |\n",
      "|18 |Logan    |Torres   |31 |logan.torres@x.dummyjson.com     |male  |+81 507-434-8733|190.04|72.43 |Green   |1993-10-26|A+        |https://dummyjson.com/icon/logant/128    |\n",
      "|19 |Abigail  |Rivera   |28 |abigail.rivera@x.dummyjson.com   |female|+91 228-363-7806|186.39|74.61 |Violet  |1996-10-11|B+        |https://dummyjson.com/icon/abigailr/128  |\n",
      "|20 |Jackson  |Evans    |34 |jackson.evans@x.dummyjson.com    |male  |+44 468-628-6686|162.57|74.37 |Green   |1990-11-30|O-        |https://dummyjson.com/icon/jacksone/128  |\n",
      "+---+---------+---------+---+---------------------------------+------+----------------+------+------+--------+----------+----------+-----------------------------------------+\n",
      "only showing top 20 rows\n",
      "\n"
     ]
    }
   ],
   "source": [
    "df = spark.createDataFrame(data, schema=schema)\n",
    "# Show the DataFrame\n",
    "df.show(truncate=False)"
   ]
  },
  {
   "cell_type": "code",
   "execution_count": 8,
   "id": "53a7c4c8-21b9-4084-a954-4ed5131a7e71",
   "metadata": {},
   "outputs": [
    {
     "name": "stdout",
     "output_type": "stream",
     "text": [
      "root\n",
      " |-- id: long (nullable = true)\n",
      " |-- firstName: string (nullable = true)\n",
      " |-- lastName: string (nullable = true)\n",
      " |-- age: integer (nullable = true)\n",
      " |-- email: string (nullable = true)\n",
      " |-- gender: string (nullable = true)\n",
      " |-- phone: string (nullable = true)\n",
      " |-- height: string (nullable = true)\n",
      " |-- weight: string (nullable = true)\n",
      " |-- eyeColor: string (nullable = true)\n",
      " |-- birthDate: string (nullable = true)\n",
      " |-- bloodGroup: string (nullable = true)\n",
      " |-- image: string (nullable = true)\n",
      "\n"
     ]
    }
   ],
   "source": [
    "# Print schema to understand the structure\n",
    "df.printSchema()"
   ]
  },
  {
   "cell_type": "code",
   "execution_count": 9,
   "id": "f16ace41-f79c-4e2e-866c-3c34f1c0812d",
   "metadata": {},
   "outputs": [],
   "source": [
    "df = df.withColumn(\"height\", col(\"height\").cast(\"float\"))\n",
    "df = df.withColumn(\"weight\", col(\"weight\").cast(\"float\"))"
   ]
  },
  {
   "cell_type": "code",
   "execution_count": 10,
   "id": "d14fd91b-3f18-438b-acce-47d0882e870f",
   "metadata": {},
   "outputs": [
    {
     "name": "stdout",
     "output_type": "stream",
     "text": [
      "+---+---------+---------+---+---------------------------------+------+----------------+------+------+--------+----------+----------+-----------------------------------------+\n",
      "|id |firstName|lastName |age|email                            |gender|phone           |height|weight|eyeColor|birthDate |bloodGroup|image                                    |\n",
      "+---+---------+---------+---+---------------------------------+------+----------------+------+------+--------+----------+----------+-----------------------------------------+\n",
      "|1  |Emily    |Johnson  |28 |emily.johnson@x.dummyjson.com    |female|+81 965-431-3024|193.24|63.16 |Green   |1996-5-30 |O-        |https://dummyjson.com/icon/emilys/128    |\n",
      "|2  |Michael  |Williams |35 |michael.williams@x.dummyjson.com |male  |+49 258-627-6644|186.22|76.32 |Red     |1989-8-10 |B+        |https://dummyjson.com/icon/michaelw/128  |\n",
      "|3  |Sophia   |Brown    |42 |sophia.brown@x.dummyjson.com     |female|+81 210-652-2785|177.72|52.6  |Hazel   |1982-11-6 |O-        |https://dummyjson.com/icon/sophiab/128   |\n",
      "|4  |James    |Davis    |45 |james.davis@x.dummyjson.com      |male  |+49 614-958-9364|193.31|62.1  |Amber   |1979-5-4  |AB+       |https://dummyjson.com/icon/jamesd/128    |\n",
      "|5  |Emma     |Miller   |30 |emma.miller@x.dummyjson.com      |female|+91 759-776-1614|192.8 |63.62 |Green   |1994-6-13 |AB-       |https://dummyjson.com/icon/emmaj/128     |\n",
      "|6  |Olivia   |Wilson   |22 |olivia.wilson@x.dummyjson.com    |female|+91 607-295-6448|182.61|58.0  |Hazel   |2002-4-20 |B+        |https://dummyjson.com/icon/oliviaw/128   |\n",
      "|7  |Alexander|Jones    |38 |alexander.jones@x.dummyjson.com  |male  |+61 260-824-4986|153.89|77.42 |Blue    |1986-10-20|AB-       |https://dummyjson.com/icon/alexanderj/128|\n",
      "|8  |Ava      |Taylor   |27 |ava.taylor@x.dummyjson.com       |female|+1 458-853-7877 |168.47|57.08 |Hazel   |1997-8-25 |AB-       |https://dummyjson.com/icon/avat/128      |\n",
      "|9  |Ethan    |Martinez |33 |ethan.martinez@x.dummyjson.com   |male  |+92 933-608-5081|159.19|68.81 |Hazel   |1991-2-12 |AB+       |https://dummyjson.com/icon/ethanm/128    |\n",
      "|10 |Isabella |Anderson |31 |isabella.anderson@x.dummyjson.com|female|+49 770-658-4885|150.56|50.1  |Brown   |1993-6-10 |A-        |https://dummyjson.com/icon/isabellad/128 |\n",
      "|11 |Liam     |Garcia   |29 |liam.garcia@x.dummyjson.com      |male  |+92 870-217-6201|162.32|93.16 |Violet  |1995-6-6  |AB-       |https://dummyjson.com/icon/liamg/128     |\n",
      "|12 |Mia      |Rodriguez|24 |mia.rodriguez@x.dummyjson.com    |female|+49 989-461-8403|188.08|56.03 |Blue    |2000-8-4  |O-        |https://dummyjson.com/icon/miar/128      |\n",
      "|13 |Noah     |Hernandez|40 |noah.hernandez@x.dummyjson.com   |male  |+49 393-605-6968|188.62|69.49 |Brown   |1984-6-5  |AB+       |https://dummyjson.com/icon/noahh/128     |\n",
      "|14 |Charlotte|Lopez    |36 |charlotte.lopez@x.dummyjson.com  |female|+44 373-953-5028|178.92|82.46 |Brown   |1988-6-8  |AB-       |https://dummyjson.com/icon/charlottem/128|\n",
      "|15 |William  |Gonzalez |32 |william.gonzalez@x.dummyjson.com |male  |+81 905-252-7319|173.21|82.41 |Hazel   |1992-3-27 |B-        |https://dummyjson.com/icon/williamg/128  |\n",
      "|16 |Avery    |Perez    |25 |avery.perez@x.dummyjson.com      |female|+61 731-431-3457|172.68|93.9  |Brown   |1999-3-10 |O-        |https://dummyjson.com/icon/averyp/128    |\n",
      "|17 |Evelyn   |Sanchez  |37 |evelyn.sanchez@x.dummyjson.com   |female|+1 623-880-6871 |184.08|83.15 |Violet  |1987-10-13|B+        |https://dummyjson.com/icon/evelyns/128   |\n",
      "|18 |Logan    |Torres   |31 |logan.torres@x.dummyjson.com     |male  |+81 507-434-8733|190.04|72.43 |Green   |1993-10-26|A+        |https://dummyjson.com/icon/logant/128    |\n",
      "|19 |Abigail  |Rivera   |28 |abigail.rivera@x.dummyjson.com   |female|+91 228-363-7806|186.39|74.61 |Violet  |1996-10-11|B+        |https://dummyjson.com/icon/abigailr/128  |\n",
      "|20 |Jackson  |Evans    |34 |jackson.evans@x.dummyjson.com    |male  |+44 468-628-6686|162.57|74.37 |Green   |1990-11-30|O-        |https://dummyjson.com/icon/jacksone/128  |\n",
      "+---+---------+---------+---+---------------------------------+------+----------------+------+------+--------+----------+----------+-----------------------------------------+\n",
      "only showing top 20 rows\n",
      "\n",
      "root\n",
      " |-- id: long (nullable = true)\n",
      " |-- firstName: string (nullable = true)\n",
      " |-- lastName: string (nullable = true)\n",
      " |-- age: integer (nullable = true)\n",
      " |-- email: string (nullable = true)\n",
      " |-- gender: string (nullable = true)\n",
      " |-- phone: string (nullable = true)\n",
      " |-- height: float (nullable = true)\n",
      " |-- weight: float (nullable = true)\n",
      " |-- eyeColor: string (nullable = true)\n",
      " |-- birthDate: string (nullable = true)\n",
      " |-- bloodGroup: string (nullable = true)\n",
      " |-- image: string (nullable = true)\n",
      "\n"
     ]
    }
   ],
   "source": [
    "df.show(truncate=False)\n",
    "df.printSchema()"
   ]
  },
  {
   "cell_type": "code",
   "execution_count": 11,
   "id": "d081e07e-c848-4007-8274-81f0d34b6d2f",
   "metadata": {},
   "outputs": [
    {
     "name": "stdout",
     "output_type": "stream",
     "text": [
      "+---------+---------+---+------+------+\n",
      "|firstName| lastName|age|height|weight|\n",
      "+---------+---------+---+------+------+\n",
      "|  Michael| Williams| 35|186.22| 76.32|\n",
      "|   Sophia|    Brown| 42|177.72|  52.6|\n",
      "|    James|    Davis| 45|193.31|  62.1|\n",
      "|Alexander|    Jones| 38|153.89| 77.42|\n",
      "|    Ethan| Martinez| 33|159.19| 68.81|\n",
      "| Isabella| Anderson| 31|150.56|  50.1|\n",
      "|     Noah|Hernandez| 40|188.62| 69.49|\n",
      "|Charlotte|    Lopez| 36|178.92| 82.46|\n",
      "|  William| Gonzalez| 32|173.21| 82.41|\n",
      "|   Evelyn|  Sanchez| 37|184.08| 83.15|\n",
      "|    Logan|   Torres| 31|190.04| 72.43|\n",
      "|  Jackson|    Evans| 34|162.57| 74.37|\n",
      "|   Elijah|  Stewart| 33|195.33| 81.64|\n",
      "|    Chloe|  Morales| 39|185.07| 63.97|\n",
      "|   Evelyn| Gonzalez| 35|168.94| 58.47|\n",
      "|   Daniel|     Cook| 41|186.21| 83.72|\n",
      "|    Henry|     Hill| 38|180.25| 95.84|\n",
      "|  Addison|   Wright| 32|179.32| 76.93|\n",
      "+---------+---------+---+------+------+\n",
      "\n"
     ]
    }
   ],
   "source": [
    "df.select(\"firstName\", \"lastName\", \"age\", \"height\", \"weight\").filter(df.age > 30).show()"
   ]
  },
  {
   "cell_type": "code",
   "execution_count": 12,
   "id": "19541b59-c7ba-4ad1-97ec-02fe6e0b7e79",
   "metadata": {},
   "outputs": [
    {
     "name": "stdout",
     "output_type": "stream",
     "text": [
      "+------+-----+\n",
      "|gender|count|\n",
      "+------+-----+\n",
      "|female|   17|\n",
      "|  male|   13|\n",
      "+------+-----+\n",
      "\n"
     ]
    }
   ],
   "source": [
    "# Group by gender and count users\n",
    "gender_count = df.groupBy(\"gender\").count()\n",
    "gender_count.show()"
   ]
  },
  {
   "cell_type": "code",
   "execution_count": 13,
   "id": "e78c53cb-6505-4cc5-9ba8-e2154f73026d",
   "metadata": {},
   "outputs": [],
   "source": [
    "#  Add a new column: Calculate BMI (weight / height^2)\n",
    "df = df.withColumn(\"BMI\", (col(\"weight\") / (col(\"height\") / 100) ** 2))"
   ]
  },
  {
   "cell_type": "code",
   "execution_count": 14,
   "id": "85a455cb-0443-465d-9969-4d55fab3a1f7",
   "metadata": {},
   "outputs": [],
   "source": [
    "# Calculate average age and average BMI by gender\n",
    "avg_stats = df.groupBy(\"gender\").agg(\n",
    "    avg(\"age\").alias(\"avg_age\"),\n",
    "    avg(\"BMI\").alias(\"avg_BMI\")\n",
    ")"
   ]
  },
  {
   "cell_type": "code",
   "execution_count": 15,
   "id": "83cd9312-609f-4dfd-b433-80bfb5544ca6",
   "metadata": {},
   "outputs": [
    {
     "name": "stdout",
     "output_type": "stream",
     "text": [
      "+------+------------------+------------------+\n",
      "|gender|           avg_age|           avg_BMI|\n",
      "+------+------------------+------------------+\n",
      "|female|30.470588235294116|20.474549256956323|\n",
      "|  male| 35.30769230769231|24.908442895659554|\n",
      "+------+------------------+------------------+\n",
      "\n"
     ]
    }
   ],
   "source": [
    "avg_stats.show()"
   ]
  },
  {
   "cell_type": "code",
   "execution_count": 16,
   "id": "6a3b6840-d281-40a7-b06c-ebab179f15d4",
   "metadata": {},
   "outputs": [],
   "source": [
    "spark.stop()"
   ]
  },
  {
   "cell_type": "code",
   "execution_count": null,
   "id": "38fd60cc-2be0-4ad3-9d18-367acbb5d508",
   "metadata": {},
   "outputs": [],
   "source": []
  }
 ],
 "metadata": {
  "kernelspec": {
   "display_name": "Python 3 (ipykernel)",
   "language": "python",
   "name": "python3"
  },
  "language_info": {
   "codemirror_mode": {
    "name": "ipython",
    "version": 3
   },
   "file_extension": ".py",
   "mimetype": "text/x-python",
   "name": "python",
   "nbconvert_exporter": "python",
   "pygments_lexer": "ipython3",
   "version": "3.12.7"
  }
 },
 "nbformat": 4,
 "nbformat_minor": 5
}
