{
 "cells": [
  {
   "cell_type": "code",
   "execution_count": 1,
   "id": "0af5ed5b-004f-47e5-8681-a9a0815523c2",
   "metadata": {},
   "outputs": [
    {
     "name": "stderr",
     "output_type": "stream",
     "text": [
      "24/12/05 18:30:13 WARN SparkSession: Using an existing Spark session; only runtime SQL configurations will take effect.\n"
     ]
    }
   ],
   "source": [
    "from pyspark.sql import SparkSession\n",
    "spark = SparkSession.builder.appName('SQL_Data_Frame').getOrCreate()"
   ]
  },
  {
   "cell_type": "code",
   "execution_count": 2,
   "id": "b5a0cb7a-b354-4b69-bfd6-470ed4e17d0b",
   "metadata": {},
   "outputs": [],
   "source": [
    "# Show csv file data"
   ]
  },
  {
   "cell_type": "code",
   "execution_count": 4,
   "id": "ce2da17b-2b98-445b-b3fd-298161903fe4",
   "metadata": {},
   "outputs": [
    {
     "name": "stdout",
     "output_type": "stream",
     "text": [
      "name,age,gender,salary\n",
      "John Doe,30,Male,50000\n",
      "Jane Smith,25,Female,45000\n",
      "David Johnson,35,Male,60000\n",
      "Emily Davis,28,Female,52000\n",
      "Michael Wilson,40,Male,75000\n",
      "Sarah Brown,32,Female,58000\n",
      "Robert Lee,29,Male,51000\n",
      "Lisa Garcia,27,Female,49000\n",
      "James Martinez,38,Male,70000\n"
     ]
    }
   ],
   "source": [
    "%%bash\n",
    "head -10 ./data/persons.csv"
   ]
  },
  {
   "cell_type": "markdown",
   "id": "26cbd170-b6b4-499e-a30c-8b346e608508",
   "metadata": {},
   "source": [
    "### Load Data into DataFrame"
   ]
  },
  {
   "cell_type": "code",
   "execution_count": 6,
   "id": "8e4ba35a-4f20-48c9-b4e1-1d14b08bb529",
   "metadata": {},
   "outputs": [],
   "source": [
    "df_path = './data/persons.csv'"
   ]
  },
  {
   "cell_type": "code",
   "execution_count": 7,
   "id": "2bac492b-d50e-4b21-84b4-4aa37212d518",
   "metadata": {},
   "outputs": [],
   "source": [
    "df = spark.read.csv(df_path, header=True, inferSchema=True)"
   ]
  },
  {
   "cell_type": "code",
   "execution_count": 8,
   "id": "499f353f-8663-4362-82ab-57e273118106",
   "metadata": {},
   "outputs": [],
   "source": [
    "# Dispaly Schema of the Dataframe"
   ]
  },
  {
   "cell_type": "code",
   "execution_count": 9,
   "id": "4792e613-0057-421c-b9f5-7f981c5826c3",
   "metadata": {},
   "outputs": [
    {
     "name": "stdout",
     "output_type": "stream",
     "text": [
      "root\n",
      " |-- name: string (nullable = true)\n",
      " |-- age: integer (nullable = true)\n",
      " |-- gender: string (nullable = true)\n",
      " |-- salary: integer (nullable = true)\n",
      "\n"
     ]
    }
   ],
   "source": [
    "df.printSchema()"
   ]
  },
  {
   "cell_type": "code",
   "execution_count": 10,
   "id": "f8739e68-da05-496f-9a8d-756bddb5e257",
   "metadata": {},
   "outputs": [],
   "source": [
    "# Show the intial DataFrame"
   ]
  },
  {
   "cell_type": "code",
   "execution_count": 11,
   "id": "eb6d950c-97ce-4877-a3bf-e8062e7f30a2",
   "metadata": {},
   "outputs": [
    {
     "name": "stdout",
     "output_type": "stream",
     "text": [
      "Inatial DataFrame\n",
      "+------------------+---+------+------+\n",
      "|              name|age|gender|salary|\n",
      "+------------------+---+------+------+\n",
      "|          John Doe| 30|  Male| 50000|\n",
      "|        Jane Smith| 25|Female| 45000|\n",
      "|     David Johnson| 35|  Male| 60000|\n",
      "|       Emily Davis| 28|Female| 52000|\n",
      "|    Michael Wilson| 40|  Male| 75000|\n",
      "|       Sarah Brown| 32|Female| 58000|\n",
      "|        Robert Lee| 29|  Male| 51000|\n",
      "|       Lisa Garcia| 27|Female| 49000|\n",
      "|    James Martinez| 38|  Male| 70000|\n",
      "|Jennifer Rodriguez| 26|Female| 47000|\n",
      "|  William Anderson| 33|  Male| 62000|\n",
      "|   Karen Hernandez| 31|Female| 55000|\n",
      "|Christopher Taylor| 37|  Male| 69000|\n",
      "|     Mary Gonzalez| 24|Female| 44000|\n",
      "|     Matthew Davis| 36|  Male| 67000|\n",
      "|    Patricia White| 29|Female| 50000|\n",
      "|     Daniel Miller| 34|  Male| 64000|\n",
      "| Elizabeth Jackson| 30|Female| 52000|\n",
      "|     Joseph Harris| 28|  Male| 53000|\n",
      "|      Linda Martin| 39|Female| 71000|\n",
      "+------------------+---+------+------+\n",
      "\n"
     ]
    }
   ],
   "source": [
    "print('Inatial DataFrame')\n",
    "df.show()"
   ]
  },
  {
   "cell_type": "markdown",
   "id": "c1b5b3b8-7c78-4dda-b4bc-a20e6b9f2761",
   "metadata": {},
   "source": [
    "### Register the DataFrame as Temp Table"
   ]
  },
  {
   "cell_type": "code",
   "execution_count": 16,
   "id": "9ef788a9-fa90-4b8d-b61d-0ab20178ffce",
   "metadata": {},
   "outputs": [],
   "source": [
    "df.createOrReplaceTempView('persons')"
   ]
  },
  {
   "cell_type": "markdown",
   "id": "676a446d-f227-445c-aba9-00ba5fde64fc",
   "metadata": {},
   "source": [
    "### Perform SQL like Quries"
   ]
  },
  {
   "cell_type": "code",
   "execution_count": 15,
   "id": "cb385c52-98a9-4470-bfcc-750a490e2a81",
   "metadata": {},
   "outputs": [
    {
     "name": "stdout",
     "output_type": "stream",
     "text": [
      "+------------------+---+------+------+\n",
      "|              name|age|gender|salary|\n",
      "+------------------+---+------+------+\n",
      "|     David Johnson| 35|  Male| 60000|\n",
      "|    Michael Wilson| 40|  Male| 75000|\n",
      "|       Sarah Brown| 32|Female| 58000|\n",
      "|    James Martinez| 38|  Male| 70000|\n",
      "|  William Anderson| 33|  Male| 62000|\n",
      "|   Karen Hernandez| 31|Female| 55000|\n",
      "|Christopher Taylor| 37|  Male| 69000|\n",
      "|     Matthew Davis| 36|  Male| 67000|\n",
      "|     Daniel Miller| 34|  Male| 64000|\n",
      "|      Linda Martin| 39|Female| 71000|\n",
      "+------------------+---+------+------+\n",
      "\n"
     ]
    }
   ],
   "source": [
    "rslt = spark.sql(\"SELECT * FROM persons WHERE age > 30\")\n",
    "rslt.show()"
   ]
  },
  {
   "cell_type": "code",
   "execution_count": 18,
   "id": "66ea30c9-851a-40be-b8a6-58055d1c89bb",
   "metadata": {},
   "outputs": [
    {
     "name": "stdout",
     "output_type": "stream",
     "text": [
      "+------+----------+\n",
      "|gender|avg_salary|\n",
      "+------+----------+\n",
      "|Female|   52300.0|\n",
      "|  Male|   62100.0|\n",
      "+------+----------+\n",
      "\n"
     ]
    }
   ],
   "source": [
    "av_salary_gender = spark.sql('SELECT gender, AVG(salary) AS avg_salary FROM persons GROUP BY gender')\n",
    "av_salary_gender.show()"
   ]
  },
  {
   "cell_type": "markdown",
   "id": "9203bf69-e6b4-4534-a9b6-3e6932d29bef",
   "metadata": {},
   "source": [
    "### Creating and managing temporary views."
   ]
  },
  {
   "cell_type": "code",
   "execution_count": 19,
   "id": "921cbdbe-0fee-4150-a04e-9a733b092b80",
   "metadata": {},
   "outputs": [],
   "source": [
    "# Create a temporary view\n",
    "df.createOrReplaceTempView(\"people\")"
   ]
  },
  {
   "cell_type": "code",
   "execution_count": 21,
   "id": "c6cdbde1-0a99-434f-a796-d9de3815ccf1",
   "metadata": {},
   "outputs": [
    {
     "name": "stdout",
     "output_type": "stream",
     "text": [
      "+------------------+---+------+------+\n",
      "|              name|age|gender|salary|\n",
      "+------------------+---+------+------+\n",
      "|     David Johnson| 35|  Male| 60000|\n",
      "|    Michael Wilson| 40|  Male| 75000|\n",
      "|    James Martinez| 38|  Male| 70000|\n",
      "|Christopher Taylor| 37|  Male| 69000|\n",
      "|     Matthew Davis| 36|  Male| 67000|\n",
      "|     Daniel Miller| 34|  Male| 64000|\n",
      "|      Linda Martin| 39|Female| 71000|\n",
      "+------------------+---+------+------+\n",
      "\n"
     ]
    }
   ],
   "source": [
    "rslts = spark.sql('SELECT * FROM people WHERE age >33')\n",
    "rslts.show()"
   ]
  },
  {
   "cell_type": "code",
   "execution_count": 26,
   "id": "350e27dd-15c6-4b85-a10a-2caca8b56f58",
   "metadata": {},
   "outputs": [
    {
     "data": {
      "text/plain": [
       "True"
      ]
     },
     "execution_count": 26,
     "metadata": {},
     "output_type": "execute_result"
    }
   ],
   "source": [
    "# Check if a temporay view exists\n",
    "view_exists = spark.catalog.tableExists('people')\n",
    "view_exists"
   ]
  },
  {
   "cell_type": "markdown",
   "id": "b58825de-5704-4411-9884-0d87f716a070",
   "metadata": {},
   "source": [
    "### Drop a temp view"
   ]
  },
  {
   "cell_type": "code",
   "execution_count": 29,
   "id": "561d7766-8162-4a7f-b740-424512262acb",
   "metadata": {},
   "outputs": [
    {
     "data": {
      "text/plain": [
       "True"
      ]
     },
     "execution_count": 29,
     "metadata": {},
     "output_type": "execute_result"
    }
   ],
   "source": [
    "# Drop a temporary view\n",
    "spark.catalog.dropTempView(\"people\")"
   ]
  },
  {
   "cell_type": "code",
   "execution_count": 30,
   "id": "ac35197d-1efc-4bf9-af03-cc95d3b06d11",
   "metadata": {},
   "outputs": [
    {
     "data": {
      "text/plain": [
       "False"
      ]
     },
     "execution_count": 30,
     "metadata": {},
     "output_type": "execute_result"
    }
   ],
   "source": [
    "# Check if a temporary view exists\n",
    "view_exists = spark.catalog.tableExists(\"people\")\n",
    "view_exists"
   ]
  },
  {
   "cell_type": "markdown",
   "id": "aa497713-8b7b-4403-ac7f-fb2887858704",
   "metadata": {},
   "source": [
    "### Data Frame"
   ]
  },
  {
   "cell_type": "code",
   "execution_count": 31,
   "id": "2a550f91-413a-4fe3-b18b-908a6b63958d",
   "metadata": {},
   "outputs": [],
   "source": [
    "emp_data = [\n",
    "    (1, \"John\"), (2, \"Alice\"), (3, \"Bob\"), (4, \"Emily\"),\n",
    "    (5, \"David\"), (6, \"Sarah\"), (7, \"Michael\"), (8, \"Lisa\"),\n",
    "    (9, \"William\")\n",
    "]"
   ]
  },
  {
   "cell_type": "code",
   "execution_count": 32,
   "id": "47343f8f-c6bd-49ee-b576-3a6cbddcd106",
   "metadata": {},
   "outputs": [
    {
     "name": "stderr",
     "output_type": "stream",
     "text": [
      "                                                                                \r"
     ]
    },
    {
     "name": "stdout",
     "output_type": "stream",
     "text": [
      "+---+-------+\n",
      "| id|   name|\n",
      "+---+-------+\n",
      "|  1|   John|\n",
      "|  2|  Alice|\n",
      "|  3|    Bob|\n",
      "|  4|  Emily|\n",
      "|  5|  David|\n",
      "|  6|  Sarah|\n",
      "|  7|Michael|\n",
      "|  8|   Lisa|\n",
      "|  9|William|\n",
      "+---+-------+\n",
      "\n"
     ]
    }
   ],
   "source": [
    "employees = spark.createDataFrame(emp_data, ['id', 'name'])\n",
    "employees.show()"
   ]
  },
  {
   "cell_type": "code",
   "execution_count": 33,
   "id": "d632818c-e9a1-4155-af5c-865eba1b668d",
   "metadata": {},
   "outputs": [],
   "source": [
    "emp_salary = [\n",
    "    (\"HR\", 1, 60000), (\"HR\", 2, 55000), (\"HR\", 3, 58000),\n",
    "    (\"IT\", 4, 70000), (\"IT\", 5, 72000), (\"IT\", 6, 68000),\n",
    "    (\"Sales\", 7, 75000), (\"Sales\", 8, 78000), (\"Sales\", 9, 77000)\n",
    "]"
   ]
  },
  {
   "cell_type": "code",
   "execution_count": 35,
   "id": "ac2c207d-66a9-41d8-b6ed-4b5a7ae113a6",
   "metadata": {},
   "outputs": [
    {
     "name": "stdout",
     "output_type": "stream",
     "text": [
      "+----------+---+------+\n",
      "|department| id|salary|\n",
      "+----------+---+------+\n",
      "|        HR|  1| 60000|\n",
      "|        HR|  2| 55000|\n",
      "|        HR|  3| 58000|\n",
      "|        IT|  4| 70000|\n",
      "|        IT|  5| 72000|\n",
      "|        IT|  6| 68000|\n",
      "|     Sales|  7| 75000|\n",
      "|     Sales|  8| 78000|\n",
      "|     Sales|  9| 77000|\n",
      "+----------+---+------+\n",
      "\n"
     ]
    }
   ],
   "source": [
    "salaries = spark.createDataFrame(emp_salary, ['department', 'id', 'salary'])\n",
    "salaries.show()"
   ]
  },
  {
   "cell_type": "code",
   "execution_count": 37,
   "id": "e2adef6a-736c-4997-abc0-086215b21927",
   "metadata": {},
   "outputs": [],
   "source": [
    "# Register as temporary views\n",
    "employees.createOrReplaceTempView(\"employees\")\n",
    "salaries.createOrReplaceTempView(\"salaries\")"
   ]
  },
  {
   "cell_type": "code",
   "execution_count": 38,
   "id": "48c0c87f-2930-4a4a-aec8-04f9e83de4e9",
   "metadata": {},
   "outputs": [
    {
     "name": "stderr",
     "output_type": "stream",
     "text": [
      "                                                                                \r"
     ]
    },
    {
     "name": "stdout",
     "output_type": "stream",
     "text": [
      "+-------+\n",
      "|   name|\n",
      "+-------+\n",
      "|  Emily|\n",
      "|  David|\n",
      "|Michael|\n",
      "|   Lisa|\n",
      "|William|\n",
      "+-------+\n",
      "\n"
     ]
    }
   ],
   "source": [
    "# Subquery to find employees with salaries above average\n",
    "result = spark.sql(\"\"\"\n",
    "    SELECT name\n",
    "    FROM employees\n",
    "    WHERE id IN (\n",
    "        SELECT id\n",
    "        FROM salaries\n",
    "        WHERE salary > (SELECT AVG(salary) FROM salaries))\"\"\")\n",
    "\n",
    "result.show()"
   ]
  },
  {
   "cell_type": "code",
   "execution_count": 39,
   "id": "b9b837d6-3c49-4d19-ab7c-3f512fdb57b8",
   "metadata": {},
   "outputs": [],
   "source": [
    "# Stop the SparkSession\n",
    "spark.stop()"
   ]
  },
  {
   "cell_type": "code",
   "execution_count": null,
   "id": "0cf927b9-b67e-42c3-906b-99548107dbd4",
   "metadata": {},
   "outputs": [],
   "source": []
  }
 ],
 "metadata": {
  "kernelspec": {
   "display_name": "Python 3 (ipykernel)",
   "language": "python",
   "name": "python3"
  },
  "language_info": {
   "codemirror_mode": {
    "name": "ipython",
    "version": 3
   },
   "file_extension": ".py",
   "mimetype": "text/x-python",
   "name": "python",
   "nbconvert_exporter": "python",
   "pygments_lexer": "ipython3",
   "version": "3.12.7"
  }
 },
 "nbformat": 4,
 "nbformat_minor": 5
}
