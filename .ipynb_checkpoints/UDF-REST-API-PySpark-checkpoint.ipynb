{
 "cells": [
  {
   "cell_type": "code",
   "execution_count": 1,
   "id": "27e479f7-69a7-4dae-8710-6b50e679098e",
   "metadata": {},
   "outputs": [
    {
     "name": "stderr",
     "output_type": "stream",
     "text": [
      "24/11/27 20:04:15 WARN GarbageCollectionMetrics: To enable non-built-in garbage collector(s) List(G1 Concurrent GC), users should configure it(them) to spark.eventLog.gcMetrics.youngGenerationGarbageCollectors or spark.eventLog.gcMetrics.oldGenerationGarbageCollectors\n"
     ]
    }
   ],
   "source": [
    "from pyspark.sql import SparkSession\n",
    "import requests\n",
    "import json\n",
    "from pyspark.sql.functions import udf, col, explode\n",
    "from pyspark.sql.types import StructType, StructField, IntegerType, StringType, ArrayType\n",
    "from pyspark.sql import Row"
   ]
  },
  {
   "cell_type": "code",
   "execution_count": 16,
   "id": "8973ec90-4421-4a78-b69e-daa84853e8d9",
   "metadata": {},
   "outputs": [],
   "source": [
    "headers = {'content-type': \"application/json\"}\n",
    "body = json.dumps({})"
   ]
  },
  {
   "cell_type": "code",
   "execution_count": 12,
   "id": "a72c0842-f632-4296-91e5-8ba90234f4ff",
   "metadata": {},
   "outputs": [],
   "source": [
    "def executeRestApi(verb, url, headers, body):\n",
    "    res = None\n",
    "    try:\n",
    "        if verb == \"get\":\n",
    "            res = requests.get(url, headers=headers, params=json.loads(body))\n",
    "        elif verb == \"post\":\n",
    "            res = requests.post(url, headers=headers, data=body)\n",
    "        else:\n",
    "            return {\"Count\": 0, \"Message\": \"Invalid verb\", \"SearchCriteria\": \"\", \"Results\": []}\n",
    "\n",
    "        if res.status_code == 200:\n",
    "            data = res.json()\n",
    "            return {\n",
    "                \"Count\": data.get(\"Count\", 0),\n",
    "                \"Message\": data.get(\"Message\", \"\"),\n",
    "                \"SearchCriteria\": data.get(\"SearchCriteria\", \"\"),\n",
    "                \"Results\": data.get(\"Results\", [])\n",
    "            }\n",
    "        else:\n",
    "            return {\"Count\": 0, \"Message\": \"Failed request\", \"SearchCriteria\": \"\", \"Results\": []}\n",
    "    except Exception as e:\n",
    "        return {\"Count\": 0, \"Message\": str(e), \"SearchCriteria\": \"\", \"Results\": []}"
   ]
  },
  {
   "cell_type": "code",
   "execution_count": 13,
   "id": "6a467a53-dba4-40ec-819f-f83f07b79341",
   "metadata": {},
   "outputs": [],
   "source": [
    "schema = StructType([\n",
    "  StructField(\"Count\", IntegerType(), True),\n",
    "  StructField(\"Message\", StringType(), True),\n",
    "  StructField(\"SearchCriteria\", StringType(), True),\n",
    "  StructField(\"Results\", ArrayType(\n",
    "    StructType([\n",
    "      StructField(\"Make_ID\", IntegerType()),\n",
    "      StructField(\"Make_Name\", StringType())\n",
    "    ])\n",
    "  ))\n",
    "])\n",
    "\n",
    "#\n",
    "udf_executeRestApi = udf(executeRestApi, schema)\n",
    "spark = SparkSession.builder.appName(\"UDF REST Demo\").getOrCreate()"
   ]
  },
  {
   "cell_type": "code",
   "execution_count": 17,
   "id": "dbaf57d8-e764-4aeb-afc6-a0afc564329f",
   "metadata": {},
   "outputs": [
    {
     "name": "stderr",
     "output_type": "stream",
     "text": [
      "[Stage 24:======================================>                   (2 + 1) / 3]\r"
     ]
    },
    {
     "name": "stdout",
     "output_type": "stream",
     "text": [
      "+-------+--------------------+\n",
      "|Make_ID|           Make_Name|\n",
      "+-------+--------------------+\n",
      "|  12858|   #1 ALPINE CUSTOMS|\n",
      "|   4877|  1/OFF KUSTOMS, LLC|\n",
      "|  11257| 102 IRONWORKS, INC.|\n",
      "|  12255|12832429 CANADA INC.|\n",
      "|  13053| 137 INDUSTRIES INC.|\n",
      "|   6387|17 CREEK ENTERPRISES|\n",
      "|  12948|  1955 CUSTOM BELAIR|\n",
      "|   9172|1M CUSTOM CAR TRA...|\n",
      "|   6124|1ST CHOICE MANUFA...|\n",
      "|  12972|     2 GOLDEN EAGLES|\n",
      "|   6488|  2-G TRAILER CO LLC|\n",
      "|  11399|24/7 ONSITE CAMER...|\n",
      "|    608|        280 TRAILERS|\n",
      "|  10123|  3 CUSTOM SOLUTIONS|\n",
      "|  11253|      3 STAR MFG LTD|\n",
      "|   8792|3&1 ENTERPRISES, ...|\n",
      "|   7388|33 EAST MAINTENAN...|\n",
      "|  10005|      357 GOLF CARTS|\n",
      "|  11527|         36 FEET LLC|\n",
      "|  12488| 360 CUSTOM TRAILERS|\n",
      "|   9857|3C CATTLE FEEDERS...|\n",
      "|    675|  3D CUSTOM ALUMINUM|\n",
      "|   4800|3M DYNAMIC MESSAG...|\n",
      "|  12538|           3PLUSCOCO|\n",
      "|    674|             3T MFG.|\n",
      "|  11657|              4 BOSS|\n",
      "|   8195|  4 STAR FABRICATION|\n",
      "|  10980|                4 W |\n",
      "|  12443|              4 WIDE|\n",
      "|   8175|  4 X 4 TRAILERS LTD|\n",
      "|   9031|     4-8 ENTERPRISES|\n",
      "|   5676|4-STAR TRAILERS INC.|\n",
      "|  12874|           41 SERIES|\n",
      "|  10908|         4L TRAILERS|\n",
      "|   7349|4M FARM & TRAILER...|\n",
      "|   7374|5 STARR TRAILER C...|\n",
      "|   4702|     505 FABRICATION|\n",
      "|   6521|   5280 TRAILERWORKS|\n",
      "|   9707|           55 GRILLS|\n",
      "|    673| 58TH STREET CUSTOMS|\n",
      "|  13240|          5G MODULAR|\n",
      "|  10122|         5JS WELDING|\n",
      "|  10301|         5M TRAILERS|\n",
      "|   8101|   5R RANCH TRAILERS|\n",
      "|   8851|6 & 34 TRAILERS &...|\n",
      "|  12191|6186433 MB LTD / ...|\n",
      "|  12345|      643 ENTERPRISE|\n",
      "|  12888|            7 ENERGY|\n",
      "|  10636|     7 SEAS TRAILERS|\n",
      "|  10653| 7 SONS CONSTRUCTION|\n",
      "+-------+--------------------+\n",
      "only showing top 50 rows\n",
      "\n"
     ]
    },
    {
     "name": "stderr",
     "output_type": "stream",
     "text": [
      "                                                                                \r"
     ]
    }
   ],
   "source": [
    "# requests\n",
    "RestApiRequest = Row(\"verb\", \"url\", \"headers\", \"body\")\n",
    "RequestApiFunc = RestApiRequest(\"get\", \"https://vpic.nhtsa.dot.gov/api/vehicles/getallmakes?format=json\", headers, json.dumps({}))\n",
    "request_df = spark.createDataFrame([RequestApiFunc]).withColumn(\"execute\", udf_executeRestApi(col(\"verb\"), col(\"url\"), col(\"headers\"), col(\"body\")))\n",
    "request_df.select(explode(col(\"execute.Results\")).alias(\"results\"))\\\n",
    "    .select(col(\"results.Make_ID\"), col(\"results.Make_Name\")).show(50)"
   ]
  },
  {
   "cell_type": "code",
   "execution_count": null,
   "id": "da869dbe-2dc4-4a74-88c8-915be1b985ff",
   "metadata": {},
   "outputs": [],
   "source": []
  }
 ],
 "metadata": {
  "kernelspec": {
   "display_name": "Python 3 (ipykernel)",
   "language": "python",
   "name": "python3"
  },
  "language_info": {
   "codemirror_mode": {
    "name": "ipython",
    "version": 3
   },
   "file_extension": ".py",
   "mimetype": "text/x-python",
   "name": "python",
   "nbconvert_exporter": "python",
   "pygments_lexer": "ipython3",
   "version": "3.12.7"
  }
 },
 "nbformat": 4,
 "nbformat_minor": 5
}
